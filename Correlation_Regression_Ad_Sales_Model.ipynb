{
 "cells": [
  {
   "cell_type": "markdown",
   "id": "9faa971e",
   "metadata": {},
   "source": [
    "# Case Study on Correlation and Regression"
   ]
  },
  {
   "cell_type": "markdown",
   "id": "69554740",
   "metadata": {},
   "source": [
    "# A textile company regularly spent money on five advertising companies for their ads. (Dataset added along with)"
   ]
  },
  {
   "cell_type": "code",
   "execution_count": 3,
   "id": "d1b547f1",
   "metadata": {},
   "outputs": [],
   "source": [
    "# Import the required libraries and load the dataset \n",
    "import pandas as pd\n",
    "import seaborn as sns\n",
    "import numpy as np\n",
    "import matplotlib.pyplot as plt\n",
    "sales_data = pd.read_csv('Add_sales_data_2018.csv')"
   ]
  },
  {
   "cell_type": "code",
   "execution_count": 2,
   "id": "c027002d",
   "metadata": {},
   "outputs": [
    {
     "data": {
      "text/html": [
       "<div>\n",
       "<style scoped>\n",
       "    .dataframe tbody tr th:only-of-type {\n",
       "        vertical-align: middle;\n",
       "    }\n",
       "\n",
       "    .dataframe tbody tr th {\n",
       "        vertical-align: top;\n",
       "    }\n",
       "\n",
       "    .dataframe thead th {\n",
       "        text-align: right;\n",
       "    }\n",
       "</style>\n",
       "<table border=\"1\" class=\"dataframe\">\n",
       "  <thead>\n",
       "    <tr style=\"text-align: right;\">\n",
       "      <th></th>\n",
       "      <th>Date</th>\n",
       "      <th>Add1(in Thousands)</th>\n",
       "      <th>Add2(in Thousands)</th>\n",
       "      <th>Add3(in Thousands)</th>\n",
       "      <th>Add4(in Thousands)</th>\n",
       "      <th>Add5(in Thousands)</th>\n",
       "      <th>Profit(in Thousands)</th>\n",
       "    </tr>\n",
       "  </thead>\n",
       "  <tbody>\n",
       "    <tr>\n",
       "      <th>0</th>\n",
       "      <td>2018-10-08</td>\n",
       "      <td>208.00</td>\n",
       "      <td>222.25</td>\n",
       "      <td>206.85</td>\n",
       "      <td>216.00</td>\n",
       "      <td>215.15</td>\n",
       "      <td>4093.065</td>\n",
       "    </tr>\n",
       "    <tr>\n",
       "      <th>1</th>\n",
       "      <td>2018-10-05</td>\n",
       "      <td>217.00</td>\n",
       "      <td>218.60</td>\n",
       "      <td>205.90</td>\n",
       "      <td>210.25</td>\n",
       "      <td>209.20</td>\n",
       "      <td>4042.448</td>\n",
       "    </tr>\n",
       "    <tr>\n",
       "      <th>2</th>\n",
       "      <td>2018-10-04</td>\n",
       "      <td>223.50</td>\n",
       "      <td>227.80</td>\n",
       "      <td>216.15</td>\n",
       "      <td>217.25</td>\n",
       "      <td>218.20</td>\n",
       "      <td>4213.819</td>\n",
       "    </tr>\n",
       "    <tr>\n",
       "      <th>3</th>\n",
       "      <td>2018-10-03</td>\n",
       "      <td>230.00</td>\n",
       "      <td>237.50</td>\n",
       "      <td>225.75</td>\n",
       "      <td>226.45</td>\n",
       "      <td>227.60</td>\n",
       "      <td>4391.665</td>\n",
       "    </tr>\n",
       "    <tr>\n",
       "      <th>4</th>\n",
       "      <td>2018-10-01</td>\n",
       "      <td>234.55</td>\n",
       "      <td>234.60</td>\n",
       "      <td>221.05</td>\n",
       "      <td>230.30</td>\n",
       "      <td>230.90</td>\n",
       "      <td>4350.683</td>\n",
       "    </tr>\n",
       "    <tr>\n",
       "      <th>...</th>\n",
       "      <td>...</td>\n",
       "      <td>...</td>\n",
       "      <td>...</td>\n",
       "      <td>...</td>\n",
       "      <td>...</td>\n",
       "      <td>...</td>\n",
       "      <td>...</td>\n",
       "    </tr>\n",
       "    <tr>\n",
       "      <th>200</th>\n",
       "      <td>2017-12-14</td>\n",
       "      <td>288.00</td>\n",
       "      <td>288.25</td>\n",
       "      <td>279.20</td>\n",
       "      <td>284.50</td>\n",
       "      <td>284.30</td>\n",
       "      <td>5374.105</td>\n",
       "    </tr>\n",
       "    <tr>\n",
       "      <th>201</th>\n",
       "      <td>2017-12-13</td>\n",
       "      <td>290.00</td>\n",
       "      <td>292.50</td>\n",
       "      <td>282.20</td>\n",
       "      <td>284.80</td>\n",
       "      <td>284.45</td>\n",
       "      <td>5439.655</td>\n",
       "    </tr>\n",
       "    <tr>\n",
       "      <th>202</th>\n",
       "      <td>2017-12-12</td>\n",
       "      <td>298.60</td>\n",
       "      <td>298.60</td>\n",
       "      <td>286.65</td>\n",
       "      <td>287.45</td>\n",
       "      <td>287.80</td>\n",
       "      <td>5545.013</td>\n",
       "    </tr>\n",
       "    <tr>\n",
       "      <th>203</th>\n",
       "      <td>2017-12-11</td>\n",
       "      <td>290.00</td>\n",
       "      <td>299.55</td>\n",
       "      <td>285.90</td>\n",
       "      <td>297.85</td>\n",
       "      <td>298.35</td>\n",
       "      <td>5565.444</td>\n",
       "    </tr>\n",
       "    <tr>\n",
       "      <th>204</th>\n",
       "      <td>2017-12-08</td>\n",
       "      <td>287.55</td>\n",
       "      <td>289.90</td>\n",
       "      <td>285.05</td>\n",
       "      <td>288.05</td>\n",
       "      <td>288.45</td>\n",
       "      <td>5421.842</td>\n",
       "    </tr>\n",
       "  </tbody>\n",
       "</table>\n",
       "<p>205 rows × 7 columns</p>\n",
       "</div>"
      ],
      "text/plain": [
       "           Date  Add1(in Thousands)  Add2(in Thousands)  Add3(in Thousands)  \\\n",
       "0    2018-10-08              208.00              222.25              206.85   \n",
       "1    2018-10-05              217.00              218.60              205.90   \n",
       "2    2018-10-04              223.50              227.80              216.15   \n",
       "3    2018-10-03              230.00              237.50              225.75   \n",
       "4    2018-10-01              234.55              234.60              221.05   \n",
       "..          ...                 ...                 ...                 ...   \n",
       "200  2017-12-14              288.00              288.25              279.20   \n",
       "201  2017-12-13              290.00              292.50              282.20   \n",
       "202  2017-12-12              298.60              298.60              286.65   \n",
       "203  2017-12-11              290.00              299.55              285.90   \n",
       "204  2017-12-08              287.55              289.90              285.05   \n",
       "\n",
       "     Add4(in Thousands)  Add5(in Thousands)  Profit(in Thousands)  \n",
       "0                216.00              215.15              4093.065  \n",
       "1                210.25              209.20              4042.448  \n",
       "2                217.25              218.20              4213.819  \n",
       "3                226.45              227.60              4391.665  \n",
       "4                230.30              230.90              4350.683  \n",
       "..                  ...                 ...                   ...  \n",
       "200              284.50              284.30              5374.105  \n",
       "201              284.80              284.45              5439.655  \n",
       "202              287.45              287.80              5545.013  \n",
       "203              297.85              298.35              5565.444  \n",
       "204              288.05              288.45              5421.842  \n",
       "\n",
       "[205 rows x 7 columns]"
      ]
     },
     "execution_count": 2,
     "metadata": {},
     "output_type": "execute_result"
    }
   ],
   "source": [
    "#Check the data in each columns\n",
    "sales_data"
   ]
  },
  {
   "cell_type": "code",
   "execution_count": 4,
   "id": "3b470f4f",
   "metadata": {},
   "outputs": [
    {
     "data": {
      "text/plain": [
       "Index(['Date', 'Add1(in Thousands)', 'Add2(in Thousands)',\n",
       "       'Add3(in Thousands)', 'Add4(in Thousands)', 'Add5(in Thousands)',\n",
       "       'Profit(in Thousands)'],\n",
       "      dtype='object')"
      ]
     },
     "execution_count": 4,
     "metadata": {},
     "output_type": "execute_result"
    }
   ],
   "source": [
    "# Derive column names\n",
    "sales_data.columns"
   ]
  },
  {
   "cell_type": "code",
   "execution_count": 6,
   "id": "3f4c2253",
   "metadata": {},
   "outputs": [
    {
     "data": {
      "text/plain": [
       "Date                     object\n",
       "Add1(in Thousands)      float64\n",
       "Add2(in Thousands)      float64\n",
       "Add3(in Thousands)      float64\n",
       "Add4(in Thousands)      float64\n",
       "Add5(in Thousands)      float64\n",
       "Profit(in Thousands)    float64\n",
       "dtype: object"
      ]
     },
     "execution_count": 6,
     "metadata": {},
     "output_type": "execute_result"
    }
   ],
   "source": [
    "#Check data types\n",
    "sales_data.dtypes"
   ]
  },
  {
   "cell_type": "code",
   "execution_count": 7,
   "id": "f1ad1778",
   "metadata": {},
   "outputs": [
    {
     "data": {
      "text/plain": [
       "Date                    0\n",
       "Add1(in Thousands)      0\n",
       "Add2(in Thousands)      0\n",
       "Add3(in Thousands)      0\n",
       "Add4(in Thousands)      0\n",
       "Add5(in Thousands)      0\n",
       "Profit(in Thousands)    0\n",
       "dtype: int64"
      ]
     },
     "execution_count": 7,
     "metadata": {},
     "output_type": "execute_result"
    }
   ],
   "source": [
    "# Check if any of the columns is null\n",
    "sales_data.isna().sum()"
   ]
  },
  {
   "cell_type": "code",
   "execution_count": 8,
   "id": "b58c6ea2",
   "metadata": {},
   "outputs": [
    {
     "data": {
      "text/html": [
       "<div>\n",
       "<style scoped>\n",
       "    .dataframe tbody tr th:only-of-type {\n",
       "        vertical-align: middle;\n",
       "    }\n",
       "\n",
       "    .dataframe tbody tr th {\n",
       "        vertical-align: top;\n",
       "    }\n",
       "\n",
       "    .dataframe thead th {\n",
       "        text-align: right;\n",
       "    }\n",
       "</style>\n",
       "<table border=\"1\" class=\"dataframe\">\n",
       "  <thead>\n",
       "    <tr style=\"text-align: right;\">\n",
       "      <th></th>\n",
       "      <th>Add1(in Thousands)</th>\n",
       "      <th>Add2(in Thousands)</th>\n",
       "      <th>Add3(in Thousands)</th>\n",
       "      <th>Add4(in Thousands)</th>\n",
       "      <th>Add5(in Thousands)</th>\n",
       "      <th>Profit(in Thousands)</th>\n",
       "    </tr>\n",
       "  </thead>\n",
       "  <tbody>\n",
       "    <tr>\n",
       "      <th>count</th>\n",
       "      <td>205.000000</td>\n",
       "      <td>205.000000</td>\n",
       "      <td>205.000000</td>\n",
       "      <td>205.000000</td>\n",
       "      <td>205.000000</td>\n",
       "      <td>205.000000</td>\n",
       "    </tr>\n",
       "    <tr>\n",
       "      <th>mean</th>\n",
       "      <td>267.577561</td>\n",
       "      <td>271.722439</td>\n",
       "      <td>262.990732</td>\n",
       "      <td>267.223902</td>\n",
       "      <td>267.152683</td>\n",
       "      <td>5059.630234</td>\n",
       "    </tr>\n",
       "    <tr>\n",
       "      <th>std</th>\n",
       "      <td>26.219588</td>\n",
       "      <td>25.914939</td>\n",
       "      <td>26.126704</td>\n",
       "      <td>26.238832</td>\n",
       "      <td>26.215360</td>\n",
       "      <td>486.910414</td>\n",
       "    </tr>\n",
       "    <tr>\n",
       "      <th>min</th>\n",
       "      <td>208.000000</td>\n",
       "      <td>218.600000</td>\n",
       "      <td>205.900000</td>\n",
       "      <td>210.250000</td>\n",
       "      <td>209.200000</td>\n",
       "      <td>4042.448000</td>\n",
       "    </tr>\n",
       "    <tr>\n",
       "      <th>25%</th>\n",
       "      <td>244.000000</td>\n",
       "      <td>248.500000</td>\n",
       "      <td>240.300000</td>\n",
       "      <td>243.050000</td>\n",
       "      <td>243.000000</td>\n",
       "      <td>4617.695000</td>\n",
       "    </tr>\n",
       "    <tr>\n",
       "      <th>50%</th>\n",
       "      <td>269.700000</td>\n",
       "      <td>274.200000</td>\n",
       "      <td>263.250000</td>\n",
       "      <td>268.900000</td>\n",
       "      <td>268.350000</td>\n",
       "      <td>5088.455000</td>\n",
       "    </tr>\n",
       "    <tr>\n",
       "      <th>75%</th>\n",
       "      <td>284.400000</td>\n",
       "      <td>288.800000</td>\n",
       "      <td>280.900000</td>\n",
       "      <td>284.500000</td>\n",
       "      <td>284.450000</td>\n",
       "      <td>5387.438000</td>\n",
       "    </tr>\n",
       "    <tr>\n",
       "      <th>max</th>\n",
       "      <td>327.700000</td>\n",
       "      <td>328.750000</td>\n",
       "      <td>321.650000</td>\n",
       "      <td>325.950000</td>\n",
       "      <td>325.750000</td>\n",
       "      <td>6137.800000</td>\n",
       "    </tr>\n",
       "  </tbody>\n",
       "</table>\n",
       "</div>"
      ],
      "text/plain": [
       "       Add1(in Thousands)  Add2(in Thousands)  Add3(in Thousands)  \\\n",
       "count          205.000000          205.000000          205.000000   \n",
       "mean           267.577561          271.722439          262.990732   \n",
       "std             26.219588           25.914939           26.126704   \n",
       "min            208.000000          218.600000          205.900000   \n",
       "25%            244.000000          248.500000          240.300000   \n",
       "50%            269.700000          274.200000          263.250000   \n",
       "75%            284.400000          288.800000          280.900000   \n",
       "max            327.700000          328.750000          321.650000   \n",
       "\n",
       "       Add4(in Thousands)  Add5(in Thousands)  Profit(in Thousands)  \n",
       "count          205.000000          205.000000            205.000000  \n",
       "mean           267.223902          267.152683           5059.630234  \n",
       "std             26.238832           26.215360            486.910414  \n",
       "min            210.250000          209.200000           4042.448000  \n",
       "25%            243.050000          243.000000           4617.695000  \n",
       "50%            268.900000          268.350000           5088.455000  \n",
       "75%            284.500000          284.450000           5387.438000  \n",
       "max            325.950000          325.750000           6137.800000  "
      ]
     },
     "execution_count": 8,
     "metadata": {},
     "output_type": "execute_result"
    }
   ],
   "source": [
    "# Study the data and check the main stat values (count,mean,std,min,max etc)\n",
    "sales_data.describe()"
   ]
  },
  {
   "cell_type": "code",
   "execution_count": 9,
   "id": "780d5c50",
   "metadata": {},
   "outputs": [
    {
     "data": {
      "image/png": "[encoded data removed]",
      "text/plain": [
       "<Figure size 1440x1080 with 6 Axes>"
      ]
     },
     "metadata": {
      "needs_background": "light"
     },
     "output_type": "display_data"
    }
   ],
   "source": [
    "# Visualize the data by plotting histograms for each column distribution\n",
    "freqgraph = sales_data.select_dtypes(['float64'])\n",
    "freqgraph.hist(figsize=(20,15))\n",
    "plt.show()"
   ]
  },
  {
   "cell_type": "markdown",
   "id": "fb8c36ff",
   "metadata": {},
   "source": [
    "# 1. First of all, check whether there is any relationship between the amount spent for advertising through five different companies and profit generated."
   ]
  },
  {
   "cell_type": "code",
   "execution_count": 12,
   "id": "08c72cff",
   "metadata": {},
   "outputs": [
    {
     "data": {
      "text/plain": [
       "<AxesSubplot:>"
      ]
     },
     "execution_count": 12,
     "metadata": {},
     "output_type": "execute_result"
    },
    {
     "data": {
      "image/png": "[encoded data removed]",
      "text/plain": [
       "<Figure size 720x360 with 2 Axes>"
      ]
     },
     "metadata": {
      "needs_background": "light"
     },
     "output_type": "display_data"
    }
   ],
   "source": [
    "# Create the heat map between the correlation between each columns in the dataset\n",
    "sales_corr_data = sales_data.corr()\n",
    "plt.subplots(figsize=(10,5))\n",
    "sns.heatmap(sales_corr_data,vmin=.975,vmax=1,annot=True,linewidth=0.2,cmap='rainbow')"
   ]
  },
  {
   "cell_type": "code",
   "execution_count": null,
   "id": "5a0d482f",
   "metadata": {},
   "outputs": [],
   "source": [
    "# We could notice that almost all columns have a high correlation of >=0.98 between each other. But, the correlation values \n",
    "# between Add4 and Add5 ( Both in thousands) are exactly 1. So, one of these columns can be eliminated while \n",
    "# creating the regression model"
   ]
  },
  {
   "cell_type": "markdown",
   "id": "e36ea2e5",
   "metadata": {},
   "source": [
    "# 2. Build a regression model to predict the profit from the given data and comment your findings on it."
   ]
  },
  {
   "cell_type": "code",
   "execution_count": 13,
   "id": "4e1392ed",
   "metadata": {},
   "outputs": [],
   "source": [
    "# As infered from question 1 , we can drop Add4 column since it is highly corelated to Add5 and create the regression model\n",
    "\n",
    "sales_data_reqd_cols = sales_data.drop(['Add4(in Thousands)'],axis=1)"
   ]
  },
  {
   "cell_type": "markdown",
   "id": "0eb3fc03",
   "metadata": {},
   "source": [
    "# Model 1"
   ]
  },
  {
   "cell_type": "code",
   "execution_count": null,
   "id": "d9bbff38",
   "metadata": {},
   "outputs": [],
   "source": [
    " # The dependent variable('y') is profit in thousands \n",
    "y = sales_data_reqd_cols['Profit(in Thousands)']\n",
    "# The independent variables are all other columns except Date & profit ( Add4 is already dropped )\n",
    "x = sales_data_reqd_cols.drop(['Date','Profit(in Thousands)'],axis=1)\n",
    "# Use the training model to make future predictions with 20% test size and 80% training size\n",
    "from sklearn.model_selection import train_test_split\n",
    "x_train,x_test,y_train,y_test = train_test_split(x,y,random_state=42,test_size=0.20)\n",
    "from sklearn import linear_model\n",
    "lr = linear_model.LinearRegression()\n",
    "model = lr.fit(x_train,y_train)\n",
    "predictions = model.predict(x_test)\n"
   ]
  },
  {
   "cell_type": "code",
   "execution_count": 15,
   "id": "3ff06504",
   "metadata": {},
   "outputs": [],
   "source": [
    "# Check the predicted values and actual values"
   ]
  },
  {
   "cell_type": "code",
   "execution_count": 16,
   "id": "2571d7aa",
   "metadata": {},
   "outputs": [
    {
     "data": {
      "text/plain": [
       "array([4153.27545349, 4445.73004619, 5130.52882637, 4906.51003111,\n",
       "       5006.83829552, 4623.3730661 , 5384.61181823, 5328.12178883,\n",
       "       5174.25834283, 5956.19250176, 5780.69521274, 4998.64258624,\n",
       "       5075.7581675 , 5783.18604238, 4936.51119211, 5065.32351051,\n",
       "       4190.86616915, 5034.92724764, 5013.76045633, 5134.50334278,\n",
       "       5145.26772667, 5422.50254931, 4569.03526175, 4597.94049005,\n",
       "       4436.70490492, 4175.24282289, 5616.25454411, 5667.28466418,\n",
       "       4648.94589473, 5717.8495839 , 5000.54215905, 5182.27940317,\n",
       "       5017.71485201, 5545.29847919, 5013.73982034, 5033.29657638,\n",
       "       5108.67989299, 4760.08423647, 4604.89118199, 4925.5997048 ,\n",
       "       5252.38632566])"
      ]
     },
     "execution_count": 16,
     "metadata": {},
     "output_type": "execute_result"
    }
   ],
   "source": [
    "predictions"
   ]
  },
  {
   "cell_type": "code",
   "execution_count": 17,
   "id": "43108d03",
   "metadata": {},
   "outputs": [
    {
     "data": {
      "text/plain": [
       "15     4152.066\n",
       "9      4446.441\n",
       "100    5131.898\n",
       "132    4907.560\n",
       "68     5004.282\n",
       "95     4623.793\n",
       "159    5384.175\n",
       "162    5328.025\n",
       "147    5175.051\n",
       "182    5956.323\n",
       "191    5780.799\n",
       "164    4997.719\n",
       "65     5075.858\n",
       "175    5784.540\n",
       "73     4936.120\n",
       "152    5065.652\n",
       "18     4190.965\n",
       "82     5034.726\n",
       "86     5015.536\n",
       "143    5134.657\n",
       "60     5145.131\n",
       "101    5421.940\n",
       "98     4569.293\n",
       "30     4598.292\n",
       "25     4436.321\n",
       "16     4175.677\n",
       "168    5616.791\n",
       "195    5667.250\n",
       "97     4648.834\n",
       "194    5717.838\n",
       "67     5001.615\n",
       "120    5182.368\n",
       "154    5017.503\n",
       "202    5545.013\n",
       "79     5013.207\n",
       "69     5030.451\n",
       "145    5108.626\n",
       "55     4760.877\n",
       "45     4606.340\n",
       "84     4925.861\n",
       "146    5250.788\n",
       "Name: Profit(in Thousands), dtype: float64"
      ]
     },
     "execution_count": 17,
     "metadata": {},
     "output_type": "execute_result"
    }
   ],
   "source": [
    "y_test"
   ]
  },
  {
   "cell_type": "code",
   "execution_count": 18,
   "id": "a8aba108",
   "metadata": {},
   "outputs": [],
   "source": [
    "# Check the mean square error and see if the model can be improved\n",
    "from sklearn.metrics import mean_squared_error\n",
    "MSE_sale = mean_squared_error(y_test,predictions)"
   ]
  },
  {
   "cell_type": "code",
   "execution_count": 19,
   "id": "afdea660",
   "metadata": {},
   "outputs": [
    {
     "data": {
      "text/plain": [
       "0.8506975615642467"
      ]
     },
     "execution_count": 19,
     "metadata": {},
     "output_type": "execute_result"
    }
   ],
   "source": [
    "MSE_sale"
   ]
  },
  {
   "cell_type": "code",
   "execution_count": null,
   "id": "7a747370",
   "metadata": {},
   "outputs": [],
   "source": [
    "# The Mean square error built using above model has a value close to 1 and can be improved"
   ]
  },
  {
   "cell_type": "markdown",
   "id": "706595c4",
   "metadata": {},
   "source": [
    "# Model 2 "
   ]
  },
  {
   "cell_type": "code",
   "execution_count": 21,
   "id": "03ae73da",
   "metadata": {},
   "outputs": [],
   "source": [
    "# Trying a model without dropping any columns other than 'date'\n",
    "x_no_drop = sales_data.drop(['Date','Profit(in Thousands)'],axis=1)\n",
    "\n",
    "from sklearn.model_selection import train_test_split\n",
    "x_train,x_test,y_train,y_test = train_test_split(x_no_drop,y,random_state=42,test_size=0.20)\n",
    "from sklearn import linear_model\n",
    "lr2 = linear_model.LinearRegression()\n",
    "model2 = lr2.fit(x_train,y_train)\n",
    "predictions2 = model2.predict(x_test)"
   ]
  },
  {
   "cell_type": "code",
   "execution_count": null,
   "id": "7226ec8c",
   "metadata": {},
   "outputs": [],
   "source": [
    "# Now check the predicted values v/s actual for model 2 "
   ]
  },
  {
   "cell_type": "code",
   "execution_count": 22,
   "id": "19c318ce",
   "metadata": {},
   "outputs": [
    {
     "data": {
      "text/plain": [
       "array([4152.066, 4446.441, 5131.898, 4907.56 , 5004.282, 4623.793,\n",
       "       5384.175, 5328.025, 5175.051, 5956.323, 5780.799, 4997.719,\n",
       "       5075.858, 5784.54 , 4936.12 , 5065.652, 4190.965, 5034.726,\n",
       "       5015.536, 5134.657, 5145.131, 5421.94 , 4569.293, 4598.292,\n",
       "       4436.321, 4175.677, 5616.791, 5667.25 , 4648.834, 5717.838,\n",
       "       5001.615, 5182.368, 5017.503, 5545.013, 5013.207, 5030.451,\n",
       "       5108.626, 4760.877, 4606.34 , 4925.861, 5250.788])"
      ]
     },
     "execution_count": 22,
     "metadata": {},
     "output_type": "execute_result"
    }
   ],
   "source": [
    "predictions2"
   ]
  },
  {
   "cell_type": "code",
   "execution_count": 23,
   "id": "83530f7c",
   "metadata": {},
   "outputs": [
    {
     "data": {
      "text/plain": [
       "15     4152.066\n",
       "9      4446.441\n",
       "100    5131.898\n",
       "132    4907.560\n",
       "68     5004.282\n",
       "95     4623.793\n",
       "159    5384.175\n",
       "162    5328.025\n",
       "147    5175.051\n",
       "182    5956.323\n",
       "191    5780.799\n",
       "164    4997.719\n",
       "65     5075.858\n",
       "175    5784.540\n",
       "73     4936.120\n",
       "152    5065.652\n",
       "18     4190.965\n",
       "82     5034.726\n",
       "86     5015.536\n",
       "143    5134.657\n",
       "60     5145.131\n",
       "101    5421.940\n",
       "98     4569.293\n",
       "30     4598.292\n",
       "25     4436.321\n",
       "16     4175.677\n",
       "168    5616.791\n",
       "195    5667.250\n",
       "97     4648.834\n",
       "194    5717.838\n",
       "67     5001.615\n",
       "120    5182.368\n",
       "154    5017.503\n",
       "202    5545.013\n",
       "79     5013.207\n",
       "69     5030.451\n",
       "145    5108.626\n",
       "55     4760.877\n",
       "45     4606.340\n",
       "84     4925.861\n",
       "146    5250.788\n",
       "Name: Profit(in Thousands), dtype: float64"
      ]
     },
     "execution_count": 23,
     "metadata": {},
     "output_type": "execute_result"
    }
   ],
   "source": [
    "y_test"
   ]
  },
  {
   "cell_type": "code",
   "execution_count": 24,
   "id": "9de78314",
   "metadata": {},
   "outputs": [],
   "source": [
    "# The predicted values are almost close to the actuals\n",
    "#check the mean square error for Model 2 \n",
    "from sklearn.metrics import mean_squared_error\n",
    "MSE_sale_2 = mean_squared_error(y_test,predictions2)"
   ]
  },
  {
   "cell_type": "code",
   "execution_count": 25,
   "id": "ebd56a79",
   "metadata": {},
   "outputs": [
    {
     "data": {
      "text/plain": [
       "6.657795174207296e-25"
      ]
     },
     "execution_count": 25,
     "metadata": {},
     "output_type": "execute_result"
    }
   ],
   "source": [
    "MSE_sale_2"
   ]
  },
  {
   "cell_type": "code",
   "execution_count": null,
   "id": "679777e0",
   "metadata": {},
   "outputs": [],
   "source": [
    "# As we can see the above Mean square value is very small (close to 0) and therefore is a better model "
   ]
  },
  {
   "cell_type": "markdown",
   "id": "3a95487c",
   "metadata": {},
   "source": [
    "# 3. Predict the profit generated by the company, if they wish to spend the following amount for advertisement."
   ]
  },
  {
   "cell_type": "markdown",
   "id": "0cf959ba",
   "metadata": {},
   "source": [
    "# Add1(in Thousands) 290\n",
    "# Add2(in Thousands) 312\n",
    "# Add3(in Thousands) 309\n",
    "# Add4(in Thousands) 298\n",
    "# Add5(in Thousands) 320"
   ]
  },
  {
   "cell_type": "code",
   "execution_count": 28,
   "id": "aeda53ac",
   "metadata": {},
   "outputs": [],
   "source": [
    "# Provide the above values in an array and see the value in predictions variable for Model 2 which happens to be the better one\n",
    "\n",
    "test_add_values = [[290,312,309,298,320]]\n",
    "\n",
    "# Calculate the predicted profit\n",
    "predicted_profit_model2 = model2.predict(test_add_values)\n"
   ]
  },
  {
   "cell_type": "code",
   "execution_count": 29,
   "id": "4918b048",
   "metadata": {},
   "outputs": [
    {
     "data": {
      "text/plain": [
       "array([5820.06])"
      ]
     },
     "execution_count": 29,
     "metadata": {},
     "output_type": "execute_result"
    }
   ],
   "source": [
    "predicted_profit_model2"
   ]
  },
  {
   "cell_type": "code",
   "execution_count": 30,
   "id": "c5983a12",
   "metadata": {},
   "outputs": [
    {
     "data": {
      "text/plain": [
       "5820.06"
      ]
     },
     "execution_count": 30,
     "metadata": {},
     "output_type": "execute_result"
    }
   ],
   "source": [
    "predicted_profit_model2.item()"
   ]
  },
  {
   "cell_type": "code",
   "execution_count": null,
   "id": "55ba98ad",
   "metadata": {},
   "outputs": [],
   "source": [
    "# As we can see , the predicted profit (in thousands) in this case is 5820.06."
   ]
  }
 ],
 "metadata": {
  "kernelspec": {
   "display_name": "Python 3",
   "language": "python",
   "name": "python3"
  },
  "language_info": {
   "codemirror_mode": {
    "name": "ipython",
    "version": 3
   },
   "file_extension": ".py",
   "mimetype": "text/x-python",
   "name": "python",
   "nbconvert_exporter": "python",
   "pygments_lexer": "ipython3",
   "version": "3.8.8"
  }
 },
 "nbformat": 4,
 "nbformat_minor": 5
}
